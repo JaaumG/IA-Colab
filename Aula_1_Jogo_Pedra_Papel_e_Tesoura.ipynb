{
  "nbformat": 4,
  "nbformat_minor": 0,
  "metadata": {
    "colab": {
      "provenance": [],
      "mount_file_id": "1_JcLp7mc73CfAygjEZZTa-iOt3xjEPm5",
      "authorship_tag": "ABX9TyNVGnmPdIqe5dng+uWaO1hE",
      "include_colab_link": true
    },
    "kernelspec": {
      "name": "python3",
      "display_name": "Python 3"
    },
    "language_info": {
      "name": "python"
    }
  },
  "cells": [
    {
      "cell_type": "markdown",
      "metadata": {
        "id": "view-in-github",
        "colab_type": "text"
      },
      "source": [
        "<a href=\"https://colab.research.google.com/github/JaaumG/IA-Colab/blob/main/Aula_1_Jogo_Pedra_Papel_e_Tesoura.ipynb\" target=\"_parent\"><img src=\"https://colab.research.google.com/assets/colab-badge.svg\" alt=\"Open In Colab\"/></a>"
      ]
    },
    {
      "cell_type": "markdown",
      "source": [
        "Meu primeiro código usando python no Colab"
      ],
      "metadata": {
        "id": "IvS1WeMlVv0I"
      }
    },
    {
      "cell_type": "code",
      "source": [
        "import random\n",
        "\n",
        "print(\"Vamos jogar pedra, papel ou tesoura?\")\n",
        "\n",
        "escolha_usuario = input(\"Escolha pedra, papel ou tesoura: \")\n",
        "escolha_computador = random.choice([\"pedra\", \"papel\", \"tesoura\"])\n",
        "\n",
        "print(f\"Você escolheu {escolha_usuario} e o computador escolheu {escolha_computador}.\")\n",
        "\n",
        "if escolha_usuario == escolha_computador:\n",
        "    print(\"Empate!\")\n",
        "\n",
        "elif (escolha_usuario == \"pedra\" and escolha_computador == \"tesoura\") or \\\n",
        "     (escolha_usuario == \"papel\" and escolha_computador == \"pedra\") or \\\n",
        "     (escolha_usuario == \"tesoura\" and escolha_computador == \"papel\"):\n",
        "    print(\"Você venceu!\")\n",
        "\n",
        "else:\n",
        "    print(\"O computador venceu!\")"
      ],
      "metadata": {
        "colab": {
          "base_uri": "https://localhost:8080/"
        },
        "id": "yzPF3F-FV3db",
        "outputId": "a2c33148-3ece-43ad-c242-aa41982da8d4"
      },
      "execution_count": null,
      "outputs": [
        {
          "output_type": "stream",
          "name": "stdout",
          "text": [
            "Vamos jogar pedra, papel ou tesoura?\n",
            "Escolha pedra, papel ou tesoura: pedra\n",
            "Você escolheu pedra e o computador escolheu pedra.\n",
            "Empate!\n"
          ]
        }
      ]
    },
    {
      "cell_type": "code",
      "source": [
        "import random\n",
        "\n",
        "print(\"Vamos jogar Pedra, Papel, Tesoura, Spock ou Lagarto?\")\n",
        "\n",
        "opcoes = [\"pedra\", \"papel\", \"tesoura\", \"spock\", \"lagarto\"]\n",
        "\n",
        "escolha_usuario = input(\"Escolha pedra, papel, tesoura, spock ou lagarto: \").lower()\n",
        "\n",
        "if escolha_usuario not in opcoes:\n",
        "    print(\"Escolha inválida! Tente novamente.\")\n",
        "else:\n",
        "    escolha_computador = random.choice(opcoes)\n",
        "\n",
        "    print(f\"Você escolheu {escolha_usuario} e o computador escolheu {escolha_computador}.\")\n",
        "\n",
        "    if escolha_usuario == escolha_computador:\n",
        "        print(\"Empate!\")\n",
        "\n",
        "    elif (escolha_usuario == \"pedra\" and (escolha_computador == \"tesoura\" or escolha_computador == \"lagarto\")) or \\\n",
        "         (escolha_usuario == \"papel\" and (escolha_computador == \"pedra\" or escolha_computador == \"spock\")) or \\\n",
        "         (escolha_usuario == \"tesoura\" and (escolha_computador == \"papel\" or escolha_computador == \"lagarto\")) or \\\n",
        "         (escolha_usuario == \"spock\" and (escolha_computador == \"tesoura\" or escolha_computador == \"pedra\")) or \\\n",
        "         (escolha_usuario == \"lagarto\" and (escolha_computador == \"spock\" or escolha_computador == \"papel\")):\n",
        "        print(\"Você venceu!\")\n",
        "\n",
        "    else:\n",
        "        print(\"O computador venceu!\")"
      ],
      "metadata": {
        "id": "N4q6DNMKVTc2",
        "outputId": "099cbfe9-343c-428b-8294-e818972d455e",
        "colab": {
          "base_uri": "https://localhost:8080/"
        }
      },
      "execution_count": 1,
      "outputs": [
        {
          "output_type": "stream",
          "name": "stdout",
          "text": [
            "Vamos jogar Pedra, Papel, Tesoura, Spock ou Lagarto?\n",
            "Escolha pedra, papel, tesoura, spock ou lagarto: spock\n",
            "Você escolheu spock e o computador escolheu papel.\n",
            "O computador venceu!\n"
          ]
        }
      ]
    }
  ]
}